{
 "cells": [
  {
   "cell_type": "code",
   "execution_count": 1,
   "id": "239f24cf-f3f2-4f8e-8293-499e41634b9c",
   "metadata": {},
   "outputs": [
    {
     "name": "stdout",
     "output_type": "stream",
     "text": [
      "Name: Jiya Hona\n",
      "Symbol: 29097/078\n",
      "\n",
      "Original Data:\n",
      " [[10 20]\n",
      " [15 25]\n",
      " [20 30]\n",
      " [25 35]]\n",
      "\n",
      "Min-Max Scaled Data:\n",
      " [[0.         0.        ]\n",
      " [0.33333333 0.33333333]\n",
      " [0.66666667 0.66666667]\n",
      " [1.         1.        ]]\n",
      "\n",
      "Data Min (per feature): [10. 20.]\n",
      "Data Max (per feature): [25. 35.]\n"
     ]
    }
   ],
   "source": [
    "import pandas as pd\n",
    "from sklearn.preprocessing import MinMaxScaler\n",
    "print('Name:Jiya Hona')\n",
    "print('Symbol: 29097/078')\n",
    "# Step 1: Load the dataset\n",
    "data = {\n",
    "    'StudentID': [1,2,3,4,5,6,7,8,9,10],\n",
    "    'Math': [78,88,60,90,55,83,71,64,88,76],\n",
    "    'Science': [65,75,50,78,48,72,66,52,80,68],\n",
    "    'English': [80,85,55,92,58,88,79,70,90,82]\n",
    "}\n",
    "df = pd.DataFrame(data)\n",
    "print(\"Original Data:\\n\", df.head())\n",
    "\n",
    "# Step 2: Apply Min-Max normalization\n",
    "scaler = MinMaxScaler()\n",
    "df[['Math', 'Science', 'English']] = scaler.fit_transform(df[['Math', 'Science', 'English']])\n",
    "\n",
    "print(\"\\nNormalized Scores (Min-Max Scaler):\\n\", df.head())\n"
   ]
  },
  {
   "cell_type": "code",
   "execution_count": null,
   "id": "11b3fb2e-54a5-422c-85bd-e91564b64419",
   "metadata": {},
   "outputs": [],
   "source": []
  }
 ],
 "metadata": {
  "kernelspec": {
   "display_name": "Python [conda env:base] *",
   "language": "python",
   "name": "conda-base-py"
  },
  "language_info": {
   "codemirror_mode": {
    "name": "ipython",
    "version": 3
   },
   "file_extension": ".py",
   "mimetype": "text/x-python",
   "name": "python",
   "nbconvert_exporter": "python",
   "pygments_lexer": "ipython3",
   "version": "3.12.7"
  }
 },
 "nbformat": 4,
 "nbformat_minor": 5
}
