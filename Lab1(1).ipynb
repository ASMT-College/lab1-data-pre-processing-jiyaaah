{
 "cells": [
  {
   "cell_type": "code",
   "execution_count": 4,
   "id": "3f7c0565-aaf5-45c8-a87f-173e259d17dd",
   "metadata": {},
   "outputs": [
    {
     "name": "stdout",
     "output_type": "stream",
     "text": [
      "Name: Jiya Hona\n",
      "Symbol: 29097/078\n",
      "\n",
      "Original Data:\n",
      " [[10 20]\n",
      " [15 25]\n",
      " [20 30]\n",
      " [25 35]]\n",
      "\n",
      "Standardized Data:\n",
      " [[-1.34164079 -1.34164079]\n",
      " [-0.4472136  -0.4472136 ]\n",
      " [ 0.4472136   0.4472136 ]\n",
      " [ 1.34164079  1.34164079]]\n",
      "\n",
      "Mean of each feature: [17.5 27.5]\n",
      "Standard deviation of each feature: [5.59016994 5.59016994]\n"
     ]
    }
   ],
   "source": [
    "from sklearn.preprocessing import StandardScaler\n",
    "import numpy as np\n",
    "\n",
    "print(\"Name: Jiya Hona\")\n",
    "print(\"Symbol: 29097/078\\n\")\n",
    "\n",
    "data = np.array([[10, 20],\n",
    "                 [15, 25],\n",
    "                 [20, 30],\n",
    "                 [25, 35]])\n",
    "\n",
    "scaler = StandardScaler()\n",
    "scaled_data = scaler.fit_transform(data)\n",
    "\n",
    "print(\"Original Data:\\n\", data)\n",
    "print(\"\\nStandardized Data:\\n\", scaled_data)\n",
    "print(\"\\nMean of each feature:\", scaler.mean_)\n",
    "print(\"Standard deviation of each feature:\", np.sqrt(scaler.var_))\n"
   ]
  },
  {
   "cell_type": "code",
   "execution_count": null,
   "id": "9e977aa2-547a-444e-9fd4-cbbaf128da10",
   "metadata": {},
   "outputs": [],
   "source": []
  }
 ],
 "metadata": {
  "kernelspec": {
   "display_name": "Python [conda env:base] *",
   "language": "python",
   "name": "conda-base-py"
  },
  "language_info": {
   "codemirror_mode": {
    "name": "ipython",
    "version": 3
   },
   "file_extension": ".py",
   "mimetype": "text/x-python",
   "name": "python",
   "nbconvert_exporter": "python",
   "pygments_lexer": "ipython3",
   "version": "3.12.7"
  }
 },
 "nbformat": 4,
 "nbformat_minor": 5
}
