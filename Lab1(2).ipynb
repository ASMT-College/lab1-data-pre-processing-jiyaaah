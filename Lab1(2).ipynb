{
 "cells": [
  {
   "cell_type": "code",
   "execution_count": 1,
   "id": "239f24cf-f3f2-4f8e-8293-499e41634b9c",
   "metadata": {},
   "outputs": [
    {
     "name": "stdout",
     "output_type": "stream",
     "text": [
      "Name: Jiya Hona\n",
      "Symbol: 29097/078\n",
      "\n",
      "Original Data:\n",
      " [[10 20]\n",
      " [15 25]\n",
      " [20 30]\n",
      " [25 35]]\n",
      "\n",
      "Min-Max Scaled Data:\n",
      " [[0.         0.        ]\n",
      " [0.33333333 0.33333333]\n",
      " [0.66666667 0.66666667]\n",
      " [1.         1.        ]]\n",
      "\n",
      "Data Min (per feature): [10. 20.]\n",
      "Data Max (per feature): [25. 35.]\n"
     ]
    }
   ],
   "source": [
    "from sklearn.preprocessing import MinMaxScaler\n",
    "import numpy as np\n",
    "\n",
    "print(\"Name: Jiya Hona\")\n",
    "print(\"Symbol: 29097/078\\n\")\n",
    "\n",
    "data = np.array([[10, 20],\n",
    "                 [15, 25],\n",
    "                 [20, 30],\n",
    "                 [25, 35]])\n",
    "\n",
    "scaler = MinMaxScaler()\n",
    "scaled_data = scaler.fit_transform(data)\n",
    "\n",
    "print(\"Original Data:\\n\", data)\n",
    "print(\"\\nMin-Max Scaled Data:\\n\", scaled_data)\n",
    "print(\"\\nData Min (per feature):\", scaler.data_min_)\n",
    "print(\"Data Max (per feature):\", scaler.data_max_)\n"
   ]
  },
  {
   "cell_type": "code",
   "execution_count": null,
   "id": "11b3fb2e-54a5-422c-85bd-e91564b64419",
   "metadata": {},
   "outputs": [],
   "source": []
  }
 ],
 "metadata": {
  "kernelspec": {
   "display_name": "Python [conda env:base] *",
   "language": "python",
   "name": "conda-base-py"
  },
  "language_info": {
   "codemirror_mode": {
    "name": "ipython",
    "version": 3
   },
   "file_extension": ".py",
   "mimetype": "text/x-python",
   "name": "python",
   "nbconvert_exporter": "python",
   "pygments_lexer": "ipython3",
   "version": "3.12.7"
  }
 },
 "nbformat": 4,
 "nbformat_minor": 5
}
