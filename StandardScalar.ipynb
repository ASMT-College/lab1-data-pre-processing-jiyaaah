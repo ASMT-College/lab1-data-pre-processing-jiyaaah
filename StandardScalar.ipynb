{
 "cells": [
  {
   "cell_type": "code",
   "execution_count": 1,
   "id": "3f7c0565-aaf5-45c8-a87f-173e259d17dd",
   "metadata": {},
   "outputs": [
    {
     "name": "stdout",
     "output_type": "stream",
     "text": [
      "Name:Jiya Hona\n",
      "Symbol: 29097/078\n",
      "Original Data:\n",
      "    StudentID  Math  Science  English\n",
      "0          1    78       65       80\n",
      "1          2    88       75       85\n",
      "2          3    60       50       55\n",
      "3          4    90       78       92\n",
      "4          5    55       48       58\n",
      "\n",
      "Standard Scaled Data:\n",
      "    StudentID      Math   Science   English\n",
      "0          1  0.228347 -0.036002  0.171299\n",
      "1          2  1.074075  0.864059  0.579153\n",
      "2          3 -1.293964 -1.386094 -1.867972\n",
      "3          4  1.243221  1.134077  1.150149\n",
      "4          5 -1.716829 -1.566106 -1.623260\n"
     ]
    }
   ],
   "source": [
    "import pandas as pd\n",
    "from sklearn.preprocessing import StandardScaler\n",
    "print('Name:Jiya Hona')\n",
    "print('Symbol: 29097/078')\n",
    "# Sample dataset similar to student_scores.csv format\n",
    "data = {\n",
    "    'StudentID': [1, 2, 3, 4, 5, 6, 7, 8, 9, 10],\n",
    "    'Math': [78, 88, 60, 90, 55, 83, 71, 64, 88, 76],\n",
    "    'Science': [65, 75, 50, 78, 48, 72, 66, 52, 80, 68],\n",
    "    'English': [80, 85, 55, 92, 58, 88, 79, 70, 90, 82]\n",
    "}\n",
    "\n",
    "# Step 1: Load the dataset\n",
    "df = pd.DataFrame(data)\n",
    "print(\"Original Data:\\n\", df.head())\n",
    "\n",
    "# Step 2: Apply Standard Scaling\n",
    "scaler = StandardScaler()\n",
    "scaled_columns = ['Math', 'Science', 'English']\n",
    "df_scaled = df.copy()\n",
    "df_scaled[scaled_columns] = scaler.fit_transform(df[scaled_columns])\n",
    "\n",
    "print(\"\\nStandard Scaled Data:\\n\", df_scaled.head())\n"
   ]
  },
  {
   "cell_type": "code",
   "execution_count": null,
   "id": "9e977aa2-547a-444e-9fd4-cbbaf128da10",
   "metadata": {},
   "outputs": [],
   "source": []
  }
 ],
 "metadata": {
  "kernelspec": {
   "display_name": "Python [conda env:base] *",
   "language": "python",
   "name": "conda-base-py"
  },
  "language_info": {
   "codemirror_mode": {
    "name": "ipython",
    "version": 3
   },
   "file_extension": ".py",
   "mimetype": "text/x-python",
   "name": "python",
   "nbconvert_exporter": "python",
   "pygments_lexer": "ipython3",
   "version": "3.12.7"
  }
 },
 "nbformat": 4,
 "nbformat_minor": 5
}
